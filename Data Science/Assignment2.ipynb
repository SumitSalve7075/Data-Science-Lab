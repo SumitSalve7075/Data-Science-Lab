{
 "cells": [
  {
   "cell_type": "code",
   "execution_count": 2,
   "id": "c7827bdd",
   "metadata": {},
   "outputs": [
    {
     "name": "stdout",
     "output_type": "stream",
     "text": [
      "  Student  Gender    Stream  Attendance (%)  Study Hours/Week Grade  \\\n",
      "0       A    Male   Science              85                10     B   \n",
      "1       B  Female  Commerce              92                14     A   \n",
      "2       C    Male      Arts              75                 7     C   \n",
      "3       D  Female   Science              88                11     B   \n",
      "4       E    Male  Commerce              60                 6     D   \n",
      "\n",
      "  Hostel Resident  \n",
      "0             Yes  \n",
      "1              No  \n",
      "2             Yes  \n",
      "3              No  \n",
      "4             Yes  \n"
     ]
    }
   ],
   "source": [
    "import pandas as pd\n",
    "\n",
    "# Sample dataset based on the image data\n",
    "data = {\n",
    "    'Student': ['A', 'B', 'C', 'D', 'E'],\n",
    "    'Gender': ['Male', 'Female', 'Male', 'Female', 'Male'],\n",
    "    'Stream': ['Science', 'Commerce', 'Arts', 'Science', 'Commerce'],\n",
    "    'Attendance (%)': [85, 92, 75, 88, 60],\n",
    "    'Study Hours/Week': [10, 14, 7, 11, 6],\n",
    "    'Grade': ['B', 'A', 'C', 'B', 'D'],\n",
    "    'Hostel Resident': ['Yes', 'No', 'Yes', 'No', 'Yes'],\n",
    "}\n",
    "\n",
    "df = pd.DataFrame(data)\n",
    "\n",
    "# Display the DataFrame\n",
    "print(df)\n"
   ]
  }
 ],
 "metadata": {
  "kernelspec": {
   "display_name": "Python 3",
   "language": "python",
   "name": "python3"
  },
  "language_info": {
   "codemirror_mode": {
    "name": "ipython",
    "version": 3
   },
   "file_extension": ".py",
   "mimetype": "text/x-python",
   "name": "python",
   "nbconvert_exporter": "python",
   "pygments_lexer": "ipython3",
   "version": "3.13.5"
  }
 },
 "nbformat": 4,
 "nbformat_minor": 5
}
